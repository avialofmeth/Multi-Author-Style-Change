{
 "cells": [
  {
   "cell_type": "code",
   "execution_count": 1,
   "metadata": {},
   "outputs": [],
   "source": [
    "import os\n",
    "\n",
    "def read_and_split_paragraphs(data_dir):\n",
    "    texts = []\n",
    "    filenames = []\n",
    "    for filename in os.listdir(data_dir):\n",
    "        if filename.endswith('.txt'):\n",
    "            with open(os.path.join(data_dir, filename), 'r', encoding='utf-8') as file:\n",
    "                paragraphs = file.read().split('\\n')  \n",
    "                texts.append(paragraphs)\n",
    "                filenames.append(filename)\n",
    "    return texts, filenames\n",
    "\n",
    "def save_paragraphs(texts, filenames, output_dir):\n",
    "    for paragraphs, filename in zip(texts, filenames):\n",
    "        file_base_name = os.path.splitext(filename)[0]\n",
    "        file_dir = os.path.join(output_dir, file_base_name)\n",
    "        os.makedirs(file_dir, exist_ok=True)\n",
    "\n",
    "        for i, paragraph in enumerate(paragraphs):\n",
    "            paragraph_filename = f'paragraph_{i+1}.txt'\n",
    "            paragraph_filepath = os.path.join(file_dir, paragraph_filename)\n",
    "            with open(paragraph_filepath, 'w', encoding='utf-8') as paragraph_file:\n",
    "                paragraph_file.write(paragraph.strip())\n",
    "\n",
    "def process_data_folders(base_dir):\n",
    "    for folder in ['train', 'validation']:\n",
    "        data_dir = os.path.join(base_dir, folder)\n",
    "        output_dir = os.path.join(base_dir, f'{folder}_processed')\n",
    "        os.makedirs(output_dir, exist_ok=True)\n",
    "\n",
    "        texts, filenames = read_and_split_paragraphs(data_dir)\n",
    "        save_paragraphs(texts, filenames, output_dir)\n",
    "\n",
    "base_data_dir = 'data'\n",
    "process_data_folders(base_data_dir)"
   ]
  },
  {
   "cell_type": "code",
   "execution_count": 6,
   "metadata": {},
   "outputs": [],
   "source": [
    "import os"
   ]
  },
  {
   "cell_type": "code",
   "execution_count": 7,
   "metadata": {},
   "outputs": [],
   "source": [
    "def read_and_split_paragraphs(data_dir):\n",
    "    texts = []\n",
    "    filenames = []\n",
    "    for filename in os.listdir(data_dir):\n",
    "        if filename.endswith('.txt'):\n",
    "            with open(os.path.join(data_dir, filename), 'r', encoding='utf-8') as file:\n",
    "                paragraphs = []\n",
    "                current_paragraph = ''\n",
    "                for line in file:\n",
    "                    stripped_line = line.strip()\n",
    "                    if stripped_line:\n",
    "                        if line.startswith(' '):  # Check for indentation\n",
    "                            current_paragraph += ' ' + stripped_line\n",
    "                        else:\n",
    "                            if current_paragraph:\n",
    "                                paragraphs.append(current_paragraph)\n",
    "                            current_paragraph = stripped_line\n",
    "                    else:\n",
    "                        if current_paragraph:\n",
    "                            paragraphs.append(current_paragraph)\n",
    "                            current_paragraph = ''\n",
    "                if current_paragraph:  # Append the last paragraph if it exists\n",
    "                    paragraphs.append(current_paragraph)\n",
    "                texts.append(paragraphs)\n",
    "                filenames.append(filename)\n",
    "    return texts, filenames"
   ]
  },
  {
   "cell_type": "code",
   "execution_count": 9,
   "metadata": {},
   "outputs": [],
   "source": [
    "def save_paragraphs(texts, filenames, output_dir):\n",
    "    for paragraphs, filename in zip(texts, filenames):\n",
    "        file_base_name = os.path.splitext(filename)[0]\n",
    "        file_dir = os.path.join(output_dir, file_base_name)\n",
    "        os.makedirs(file_dir, exist_ok=True)\n",
    "\n",
    "        for i, paragraph in enumerate(paragraphs):\n",
    "            paragraph_filename = f'paragraph_{i+1}.txt'\n",
    "            paragraph_filepath = os.path.join(file_dir, paragraph_filename)\n",
    "            with open(paragraph_filepath, 'w', encoding='utf-8') as paragraph_file:\n",
    "                paragraph_file.write(paragraph.strip())"
   ]
  },
  {
   "cell_type": "code",
   "execution_count": 10,
   "metadata": {},
   "outputs": [],
   "source": [
    "def process_data_folders(base_dir):\n",
    "    for folder in ['train', 'validation']:\n",
    "        data_dir = os.path.join(base_dir, folder)\n",
    "        output_dir = os.path.join(base_dir, f'{folder}_processed')\n",
    "        os.makedirs(output_dir, exist_ok=True)\n",
    "\n",
    "        texts, filenames = read_and_split_paragraphs(data_dir)\n",
    "        save_paragraphs(texts, filenames, output_dir)"
   ]
  },
  {
   "cell_type": "code",
   "execution_count": 11,
   "metadata": {},
   "outputs": [],
   "source": [
    "base_data_dir = 'data'\n",
    "process_data_folders(base_data_dir)"
   ]
  },
  {
   "cell_type": "markdown",
   "metadata": {},
   "source": [
    "### Test problem-1033"
   ]
  },
  {
   "cell_type": "code",
   "execution_count": 12,
   "metadata": {},
   "outputs": [
    {
     "name": "stdout",
     "output_type": "stream",
     "text": [
      "Filename: problem-1033.txt\n",
      "Paragraph 1: WARSAW, Feb 9 (Reuters) - Poland is to close a key border crossing with Belarus until further notice, the Polish interior minister said on Thursday, as relations between Warsaw and Minsk sink to new lows.\n",
      "Paragraph 2: The already tense relations between Poland and Belarus were further strained on Wednesday when a journalist of Polish origin was sentenced to eight years in prison by a Belarusian court in a trial Warsaw says was politically motivated.\n",
      "Paragraph 3: \"Due to the important interest of state security, I decided to suspend until further notice from 1200 on Feb. 10 this year traffic at the Polish-Belarusian border crossing in Bobrowniki,\" Mariusz Kaminski wrote on Twitter. Bobrowniki, more than 200 km northeast of Warsaw, is one of the main crossing points between Poland and Belarus. Kaminski also said that as a result of the jailing of journalist Andrzej Poczobut he would apply for further people connected with Belarusian President Alexander Lukashenko to be added to sanctions lists.\n",
      "Paragraph 4: The Polish charge d'affaires in Minsk has been summoned to the Belarusian foreign ministry, the Polish foreign ministry's spokesman said on Thursday. The Belarusian embassy in Warsaw could not immediately be reached for comment.\n",
      "Paragraph 5: Poland has become a key refuge for opponents to the Lukashenko regime, and Warsaw has become one of Ukraine's staunchest allies since Belarusian ally Russia invaded the country in February last year.\n",
      "Paragraph 6: Russia used Belarus as a staging post for its failed advance on Kyiv, starting on Feb. 24. In 2021, Poland and the European Union said Minsk had engineered a migrant crisis on its borders, an accusation Belarus denies. More recently, Poland has condemned the vandalism of Polish graves in Belarus. Thousands of people of Polish origin live in Belarus as the west of the country was Polish territory until the borders were redrawn after World War Two.\n",
      "Paragraph 7: Yes, this cuts off 1 of 2 functioning cargo routes, plus less shopping tourists from Grodno, while people who leave Belarus to work/study in Poland will take a bit longer ride through Terespol queue or Lithuania.\n",
      "Paragraph 8: Considering that cargo queues were already damn long, very reasonable answer to prosecution of Polish citizen that actually happened in Grodno.\n",
      "Paragraph 9: It always surprises me when these decisions are made on a national level, rather than an EU level. You'd expect Poland to need Lithuania and Latvia to do the same for this to have any impact.\n"
     ]
    }
   ],
   "source": [
    "import os\n",
    "\n",
    "def read_and_split_paragraphs(file_path):\n",
    "    texts = []\n",
    "    filenames = []\n",
    "    if os.path.isfile(file_path):\n",
    "        with open(file_path, 'r', encoding='utf-8') as file:\n",
    "            paragraphs = []\n",
    "            current_paragraph = ''\n",
    "            for line in file:\n",
    "                stripped_line = line.strip()\n",
    "                if stripped_line:\n",
    "                    if line.startswith(' '):  # Check for indentation\n",
    "                        current_paragraph += ' ' + stripped_line\n",
    "                    else:\n",
    "                        if current_paragraph:\n",
    "                            paragraphs.append(current_paragraph)\n",
    "                        current_paragraph = stripped_line\n",
    "                else:\n",
    "                    if current_paragraph:\n",
    "                        paragraphs.append(current_paragraph)\n",
    "                        current_paragraph = ''\n",
    "            if current_paragraph:  # Append the last paragraph if it exists\n",
    "                paragraphs.append(current_paragraph)\n",
    "            texts.append(paragraphs)\n",
    "            filenames.append(os.path.basename(file_path))\n",
    "    return texts, filenames\n",
    "\n",
    "# 设置测试文件路径\n",
    "test_file_path = 'data/train/problem-1033.txt'\n",
    "\n",
    "# 测试函数\n",
    "texts, filenames = read_and_split_paragraphs(test_file_path)\n",
    "\n",
    "# 打印结果\n",
    "for filename, paragraphs in zip(filenames, texts):\n",
    "    print(f\"Filename: {filename}\")\n",
    "    for i, paragraph in enumerate(paragraphs, 1):\n",
    "        print(f\"Paragraph {i}: {paragraph}\")\n"
   ]
  }
 ],
 "metadata": {
  "kernelspec": {
   "display_name": "nlp",
   "language": "python",
   "name": "python3"
  },
  "language_info": {
   "codemirror_mode": {
    "name": "ipython",
    "version": 3
   },
   "file_extension": ".py",
   "mimetype": "text/x-python",
   "name": "python",
   "nbconvert_exporter": "python",
   "pygments_lexer": "ipython3",
   "version": "3.10.13"
  }
 },
 "nbformat": 4,
 "nbformat_minor": 2
}
